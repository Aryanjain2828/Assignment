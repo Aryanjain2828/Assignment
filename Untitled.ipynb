{
 "cells": [
  {
   "cell_type": "code",
   "execution_count": 1,
   "id": "7d997e5b-a14a-4b74-bc9e-8d0e6a7398b4",
   "metadata": {},
   "outputs": [],
   "source": [
    "#Question 1"
   ]
  },
  {
   "cell_type": "code",
   "execution_count": 3,
   "id": "6d03faaf-2cec-46c6-9465-a145b0cccf45",
   "metadata": {},
   "outputs": [],
   "source": [
    "#Use a for lop when you know the loop should execute n times.\n",
    "#Use a while loop when asking user for a input."
   ]
  },
  {
   "cell_type": "code",
   "execution_count": 4,
   "id": "32e2431f-f228-43d0-bac4-a22c0a301b7a",
   "metadata": {},
   "outputs": [],
   "source": [
    "#Example of a for loop"
   ]
  },
  {
   "cell_type": "code",
   "execution_count": 5,
   "id": "80f113e6-2c7a-4cfc-9f39-d4961996ebd3",
   "metadata": {},
   "outputs": [
    {
     "name": "stdout",
     "output_type": "stream",
     "text": [
      "a\n",
      "r\n",
      "y\n",
      "a\n",
      "n\n"
     ]
    }
   ],
   "source": [
    "l=\"aryan\"\n",
    "for i in l:\n",
    "    print(i)"
   ]
  },
  {
   "cell_type": "code",
   "execution_count": 6,
   "id": "8ddc27e7-0227-4548-9636-3aee03b08e3c",
   "metadata": {},
   "outputs": [],
   "source": [
    "#Example of a while loop"
   ]
  },
  {
   "cell_type": "code",
   "execution_count": 1,
   "id": "10abe09a-bc62-441e-8eb3-149035eaa19a",
   "metadata": {},
   "outputs": [
    {
     "name": "stdout",
     "output_type": "stream",
     "text": [
      "1\n",
      "2\n",
      "3\n",
      "4\n",
      "5\n",
      "6\n",
      "7\n",
      "8\n",
      "9\n",
      "10\n"
     ]
    }
   ],
   "source": [
    "a=1\n",
    "while a<=10:\n",
    "    print(a)\n",
    "    a=a+1"
   ]
  },
  {
   "cell_type": "code",
   "execution_count": 2,
   "id": "5a76df9f-5c30-44cf-80dd-898a104701c9",
   "metadata": {},
   "outputs": [],
   "source": [
    "#Question 2"
   ]
  },
  {
   "cell_type": "code",
   "execution_count": 4,
   "id": "f01a90e3-b516-4aa1-819c-5747cca31bc0",
   "metadata": {},
   "outputs": [],
   "source": [
    "#By for loop"
   ]
  },
  {
   "cell_type": "code",
   "execution_count": 14,
   "id": "72a5b49c-6c58-4420-8a0b-15eb11f0c51e",
   "metadata": {},
   "outputs": [
    {
     "name": "stdout",
     "output_type": "stream",
     "text": [
      "1\n",
      "2\n",
      "3\n",
      "4\n",
      "5\n",
      "6\n",
      "7\n",
      "8\n",
      "9\n",
      "10\n",
      "the sum of the numbers is: 55\n"
     ]
    }
   ],
   "source": [
    "sum=0\n",
    "for i in range (1,11):\n",
    "    print(i)\n",
    "    sum=sum+i\n",
    "print(\"the sum of the numbers is:\",sum)"
   ]
  },
  {
   "cell_type": "code",
   "execution_count": 15,
   "id": "a35c54c8-bbd6-484e-be24-a1f8dca26f5c",
   "metadata": {},
   "outputs": [],
   "source": [
    "#product by for loop"
   ]
  },
  {
   "cell_type": "code",
   "execution_count": 17,
   "id": "63bcc631-ef19-4b20-a21d-ff633f1710b1",
   "metadata": {},
   "outputs": [
    {
     "name": "stdout",
     "output_type": "stream",
     "text": [
      "1\n",
      "2\n",
      "3\n",
      "4\n",
      "5\n",
      "6\n",
      "7\n",
      "8\n",
      "9\n",
      "10\n",
      "the product of first 10 natural number is: 3628800\n"
     ]
    }
   ],
   "source": [
    "product=1\n",
    "for i in range (1,11):\n",
    "    print(i)\n",
    "    product=product*i\n",
    "print(\"the product of first 10 natural number is:\",product)"
   ]
  },
  {
   "cell_type": "code",
   "execution_count": 18,
   "id": "bcf13a96-f043-4f15-930b-0fb1839d1556",
   "metadata": {},
   "outputs": [],
   "source": [
    "#sum by while loop"
   ]
  },
  {
   "cell_type": "code",
   "execution_count": 4,
   "id": "5313f9f4-f9e3-4f54-ab6c-dd5c1c6f5a2b",
   "metadata": {},
   "outputs": [
    {
     "name": "stdin",
     "output_type": "stream",
     "text": [
      "enter n 10\n"
     ]
    },
    {
     "name": "stdout",
     "output_type": "stream",
     "text": [
      "sumof 1st 10 naturalno is: 55\n"
     ]
    }
   ],
   "source": [
    "n=int(input(\"enter n\"))\n",
    "sum=0\n",
    "i=1\n",
    "while(i<=n):\n",
    "    sum=sum+i\n",
    "    i=i+1\n",
    "print(\"sumof 1st 10 naturalno is:\",sum)"
   ]
  },
  {
   "cell_type": "code",
   "execution_count": 5,
   "id": "5361a9f2-d0aa-4892-979a-080725544c8a",
   "metadata": {},
   "outputs": [],
   "source": [
    "#product by while loop"
   ]
  },
  {
   "cell_type": "code",
   "execution_count": null,
   "id": "d2b796ad-01f7-4191-99c2-f0acd7d48718",
   "metadata": {},
   "outputs": [],
   "source": []
  },
  {
   "cell_type": "code",
   "execution_count": 1,
   "id": "cefca075-88ae-43a4-8456-3b84a42534e3",
   "metadata": {},
   "outputs": [
    {
     "name": "stdin",
     "output_type": "stream",
     "text": [
      "enter n 10\n"
     ]
    },
    {
     "name": "stdout",
     "output_type": "stream",
     "text": [
      " product of 1st 10 naturalno is: 3628800\n"
     ]
    }
   ],
   "source": [
    "n=int(input(\"enter n\"))\n",
    "product=1\n",
    "i=1\n",
    "while(i<=n):\n",
    "    product=product*i\n",
    "    i=i+1\n",
    "print(\" product of 1st 10 naturalno is:\",product)"
   ]
  },
  {
   "cell_type": "code",
   "execution_count": 2,
   "id": "f9bc5a7d-81b4-4490-a67c-8504e12b749d",
   "metadata": {},
   "outputs": [],
   "source": [
    "#Question 3"
   ]
  },
  {
   "cell_type": "code",
   "execution_count": 2,
   "id": "13d097e7-accb-4325-94ad-e7bc2001fc29",
   "metadata": {},
   "outputs": [
    {
     "name": "stdin",
     "output_type": "stream",
     "text": [
      "enter the units of electricity consumed 310\n"
     ]
    },
    {
     "name": "stdout",
     "output_type": "stream",
     "text": [
      "2250.0\n"
     ]
    }
   ],
   "source": [
    "units=float(input(\"enter the units of electricity consumed\"))\n",
    "bill=0.0\n",
    "if(units<=100):\n",
    "    bill=units*4.5\n",
    "elif(units>100 and units<=200):\n",
    "    bill=100*4.5+(units-100)*6\n",
    "elif(units>200 and units<=300):\n",
    "    bill=100*4.5+100*6+(units-200)*10\n",
    "else:\n",
    "    bill=100*4.5+100*6+100*10+(units-300)*20\n",
    "print(bill)"
   ]
  },
  {
   "cell_type": "code",
   "execution_count": 4,
   "id": "8eb2a3f9-2602-4bba-b6d5-42bebe8f2a71",
   "metadata": {},
   "outputs": [],
   "source": [
    "#question 5"
   ]
  },
  {
   "cell_type": "code",
   "execution_count": 9,
   "id": "0970031e-50b8-4050-99c3-daafe0cce599",
   "metadata": {},
   "outputs": [
    {
     "name": "stdout",
     "output_type": "stream",
     "text": [
      "12\n"
     ]
    }
   ],
   "source": [
    "s=\"i want to become a data scientist\"\n",
    "count=0\n",
    "l=['a','e','i','o','u']\n",
    "for char in s:\n",
    "    if char in l:\n",
    "        count =count+1\n",
    "print(count)"
   ]
  },
  {
   "cell_type": "code",
   "execution_count": null,
   "id": "a1441ae9-8e90-4f5c-b6cb-30691b130d1f",
   "metadata": {},
   "outputs": [],
   "source": []
  }
 ],
 "metadata": {
  "kernelspec": {
   "display_name": "Python 3 (ipykernel)",
   "language": "python",
   "name": "python3"
  },
  "language_info": {
   "codemirror_mode": {
    "name": "ipython",
    "version": 3
   },
   "file_extension": ".py",
   "mimetype": "text/x-python",
   "name": "python",
   "nbconvert_exporter": "python",
   "pygments_lexer": "ipython3",
   "version": "3.10.8"
  }
 },
 "nbformat": 4,
 "nbformat_minor": 5
}
